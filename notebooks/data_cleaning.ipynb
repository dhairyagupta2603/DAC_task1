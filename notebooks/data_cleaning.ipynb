{
 "cells": [
  {
   "cell_type": "code",
   "execution_count": 2,
   "metadata": {},
   "outputs": [],
   "source": [
    "# imports\n",
    "import numpy as np\n",
    "import pandas as pd\n",
    "import matplotlib.pyplot as plt\n",
    "import seaborn as sb"
   ]
  },
  {
   "cell_type": "code",
   "execution_count": 3,
   "metadata": {},
   "outputs": [
    {
     "name": "stdout",
     "output_type": "stream",
     "text": [
      "<class 'pandas.core.frame.DataFrame'>\n",
      "RangeIndex: 215 entries, 0 to 214\n",
      "Data columns (total 15 columns):\n",
      " #   Column          Non-Null Count  Dtype  \n",
      "---  ------          --------------  -----  \n",
      " 0   sl_no           215 non-null    int64  \n",
      " 1   gender          215 non-null    object \n",
      " 2   ssc_p           215 non-null    float64\n",
      " 3   ssc_b           215 non-null    object \n",
      " 4   hsc_p           215 non-null    float64\n",
      " 5   hsc_b           215 non-null    object \n",
      " 6   hsc_s           215 non-null    object \n",
      " 7   degree_p        215 non-null    float64\n",
      " 8   degree_t        215 non-null    object \n",
      " 9   workex          215 non-null    object \n",
      " 10  etest_p         215 non-null    float64\n",
      " 11  specialisation  215 non-null    object \n",
      " 12  mba_p           215 non-null    float64\n",
      " 13  status          215 non-null    object \n",
      " 14  salary          148 non-null    float64\n",
      "dtypes: float64(6), int64(1), object(8)\n",
      "memory usage: 25.3+ KB\n"
     ]
    }
   ],
   "source": [
    "# reading csv and convering to dataframe\n",
    "df1 = pd.read_csv('..\\data\\Placement_Data_Full_Class.csv')\n",
    "df1.info()"
   ]
  },
  {
   "cell_type": "markdown",
   "metadata": {},
   "source": [
    "## Basic Pre-Processing"
   ]
  },
  {
   "cell_type": "code",
   "execution_count": 4,
   "metadata": {},
   "outputs": [
    {
     "name": "stdout",
     "output_type": "stream",
     "text": [
      "<class 'pandas.core.frame.DataFrame'>\n",
      "Int64Index: 148 entries, 0 to 213\n",
      "Data columns (total 15 columns):\n",
      " #   Column          Non-Null Count  Dtype  \n",
      "---  ------          --------------  -----  \n",
      " 0   sl_no           148 non-null    int64  \n",
      " 1   gender          148 non-null    object \n",
      " 2   ssc_p           148 non-null    float64\n",
      " 3   ssc_b           148 non-null    object \n",
      " 4   hsc_p           148 non-null    float64\n",
      " 5   hsc_b           148 non-null    object \n",
      " 6   hsc_s           148 non-null    object \n",
      " 7   degree_p        148 non-null    float64\n",
      " 8   degree_t        148 non-null    object \n",
      " 9   workex          148 non-null    object \n",
      " 10  etest_p         148 non-null    float64\n",
      " 11  specialisation  148 non-null    object \n",
      " 12  mba_p           148 non-null    float64\n",
      " 13  status          148 non-null    object \n",
      " 14  salary          148 non-null    float64\n",
      "dtypes: float64(6), int64(1), object(8)\n",
      "memory usage: 18.5+ KB\n"
     ]
    }
   ],
   "source": [
    "# clearing null values\n",
    "df1 = df1.dropna()\n",
    "df1.info()"
   ]
  },
  {
   "cell_type": "code",
   "execution_count": 5,
   "metadata": {},
   "outputs": [
    {
     "data": {
      "text/plain": [
       "148"
      ]
     },
     "execution_count": 5,
     "metadata": {},
     "output_type": "execute_result"
    }
   ],
   "source": [
    "# Making data unique\n",
    "df1['sl_no'].nunique()"
   ]
  },
  {
   "cell_type": "code",
   "execution_count": 6,
   "metadata": {},
   "outputs": [
    {
     "name": "stdout",
     "output_type": "stream",
     "text": [
      "<class 'pandas.core.frame.DataFrame'>\n",
      "Int64Index: 148 entries, 0 to 213\n",
      "Data columns (total 14 columns):\n",
      " #   Column          Non-Null Count  Dtype  \n",
      "---  ------          --------------  -----  \n",
      " 0   gender          148 non-null    object \n",
      " 1   ssc_p           148 non-null    float64\n",
      " 2   ssc_b           148 non-null    object \n",
      " 3   hsc_p           148 non-null    float64\n",
      " 4   hsc_b           148 non-null    object \n",
      " 5   hsc_s           148 non-null    object \n",
      " 6   degree_p        148 non-null    float64\n",
      " 7   degree_t        148 non-null    object \n",
      " 8   workex          148 non-null    object \n",
      " 9   etest_p         148 non-null    float64\n",
      " 10  specialisation  148 non-null    object \n",
      " 11  mba_p           148 non-null    float64\n",
      " 12  status          148 non-null    object \n",
      " 13  salary          148 non-null    float64\n",
      "dtypes: float64(6), object(8)\n",
      "memory usage: 17.3+ KB\n"
     ]
    }
   ],
   "source": [
    "# dropping sl_no, \n",
    "df2 = df1.drop(columns = 'sl_no')\n",
    "df2.info()"
   ]
  },
  {
   "cell_type": "code",
   "execution_count": 7,
   "metadata": {},
   "outputs": [
    {
     "data": {
      "text/html": [
       "<div>\n",
       "<style scoped>\n",
       "    .dataframe tbody tr th:only-of-type {\n",
       "        vertical-align: middle;\n",
       "    }\n",
       "\n",
       "    .dataframe tbody tr th {\n",
       "        vertical-align: top;\n",
       "    }\n",
       "\n",
       "    .dataframe thead th {\n",
       "        text-align: right;\n",
       "    }\n",
       "</style>\n",
       "<table border=\"1\" class=\"dataframe\">\n",
       "  <thead>\n",
       "    <tr style=\"text-align: right;\">\n",
       "      <th></th>\n",
       "      <th>ssc_p</th>\n",
       "      <th>hsc_p</th>\n",
       "      <th>degree_p</th>\n",
       "      <th>etest_p</th>\n",
       "      <th>mba_p</th>\n",
       "      <th>salary</th>\n",
       "    </tr>\n",
       "  </thead>\n",
       "  <tbody>\n",
       "    <tr>\n",
       "      <th>count</th>\n",
       "      <td>148.000000</td>\n",
       "      <td>148.000000</td>\n",
       "      <td>148.000000</td>\n",
       "      <td>148.000000</td>\n",
       "      <td>148.000000</td>\n",
       "      <td>148.000000</td>\n",
       "    </tr>\n",
       "    <tr>\n",
       "      <th>mean</th>\n",
       "      <td>71.721486</td>\n",
       "      <td>69.926554</td>\n",
       "      <td>68.740541</td>\n",
       "      <td>73.238041</td>\n",
       "      <td>62.579392</td>\n",
       "      <td>288655.405405</td>\n",
       "    </tr>\n",
       "    <tr>\n",
       "      <th>std</th>\n",
       "      <td>8.715445</td>\n",
       "      <td>9.329268</td>\n",
       "      <td>6.518087</td>\n",
       "      <td>13.729333</td>\n",
       "      <td>5.884583</td>\n",
       "      <td>93457.452420</td>\n",
       "    </tr>\n",
       "    <tr>\n",
       "      <th>min</th>\n",
       "      <td>49.000000</td>\n",
       "      <td>50.830000</td>\n",
       "      <td>56.000000</td>\n",
       "      <td>50.000000</td>\n",
       "      <td>52.380000</td>\n",
       "      <td>200000.000000</td>\n",
       "    </tr>\n",
       "    <tr>\n",
       "      <th>25%</th>\n",
       "      <td>65.000000</td>\n",
       "      <td>63.000000</td>\n",
       "      <td>65.000000</td>\n",
       "      <td>60.000000</td>\n",
       "      <td>57.772500</td>\n",
       "      <td>240000.000000</td>\n",
       "    </tr>\n",
       "    <tr>\n",
       "      <th>50%</th>\n",
       "      <td>72.500000</td>\n",
       "      <td>68.000000</td>\n",
       "      <td>68.000000</td>\n",
       "      <td>72.000000</td>\n",
       "      <td>62.245000</td>\n",
       "      <td>265000.000000</td>\n",
       "    </tr>\n",
       "    <tr>\n",
       "      <th>75%</th>\n",
       "      <td>78.125000</td>\n",
       "      <td>75.250000</td>\n",
       "      <td>72.422500</td>\n",
       "      <td>85.000000</td>\n",
       "      <td>66.760000</td>\n",
       "      <td>300000.000000</td>\n",
       "    </tr>\n",
       "    <tr>\n",
       "      <th>max</th>\n",
       "      <td>89.400000</td>\n",
       "      <td>97.700000</td>\n",
       "      <td>91.000000</td>\n",
       "      <td>98.000000</td>\n",
       "      <td>77.890000</td>\n",
       "      <td>940000.000000</td>\n",
       "    </tr>\n",
       "  </tbody>\n",
       "</table>\n",
       "</div>"
      ],
      "text/plain": [
       "            ssc_p       hsc_p    degree_p     etest_p       mba_p  \\\n",
       "count  148.000000  148.000000  148.000000  148.000000  148.000000   \n",
       "mean    71.721486   69.926554   68.740541   73.238041   62.579392   \n",
       "std      8.715445    9.329268    6.518087   13.729333    5.884583   \n",
       "min     49.000000   50.830000   56.000000   50.000000   52.380000   \n",
       "25%     65.000000   63.000000   65.000000   60.000000   57.772500   \n",
       "50%     72.500000   68.000000   68.000000   72.000000   62.245000   \n",
       "75%     78.125000   75.250000   72.422500   85.000000   66.760000   \n",
       "max     89.400000   97.700000   91.000000   98.000000   77.890000   \n",
       "\n",
       "              salary  \n",
       "count     148.000000  \n",
       "mean   288655.405405  \n",
       "std     93457.452420  \n",
       "min    200000.000000  \n",
       "25%    240000.000000  \n",
       "50%    265000.000000  \n",
       "75%    300000.000000  \n",
       "max    940000.000000  "
      ]
     },
     "execution_count": 7,
     "metadata": {},
     "output_type": "execute_result"
    }
   ],
   "source": [
    "# describing dataframe\n",
    "df2.describe()"
   ]
  },
  {
   "cell_type": "markdown",
   "metadata": {},
   "source": [
    "## Plotting for Better Understanding"
   ]
  },
  {
   "cell_type": "code",
   "execution_count": 9,
   "metadata": {},
   "outputs": [
    {
     "name": "stdout",
     "output_type": "stream",
     "text": [
      "gender              2\n",
      "ssc_p              72\n",
      "ssc_b               2\n",
      "hsc_p              71\n",
      "hsc_b               2\n",
      "hsc_s               3\n",
      "degree_p           69\n",
      "degree_t            3\n",
      "workex              2\n",
      "etest_p            79\n",
      "specialisation      2\n",
      "mba_p             143\n",
      "status              1\n",
      "salary             45\n",
      "dtype: int64\n"
     ]
    }
   ],
   "source": [
    "print(df2.nunique())"
   ]
  },
  {
   "cell_type": "code",
   "execution_count": 22,
   "metadata": {},
   "outputs": [],
   "source": [
    "# counts \n",
    "gender_cnt = df2['gender'].value_counts()\n",
    "sp_cnt = df2['hsc_s'].value_counts()\n",
    "b_cnt = df2['ssc_b'].value_counts()\n",
    "wexp_cnt = df2['workex'].value_counts()\n",
    "degree_cnt = df2['degree_t'].value_counts()\n"
   ]
  },
  {
   "cell_type": "code",
   "execution_count": 23,
   "metadata": {},
   "outputs": [
    {
     "data": {
      "image/png": "[encoded data removed]",
      "text/plain": [
       "<Figure size 432x288 with 1 Axes>"
      ]
     },
     "metadata": {},
     "output_type": "display_data"
    },
    {
     "data": {
      "image/png": "[encoded data removed]",
      "text/plain": [
       "<Figure size 432x288 with 1 Axes>"
      ]
     },
     "metadata": {},
     "output_type": "display_data"
    },
    {
     "data": {
      "image/png": "[encoded data removed]",
      "text/plain": [
       "<Figure size 432x288 with 1 Axes>"
      ]
     },
     "metadata": {},
     "output_type": "display_data"
    },
    {
     "data": {
      "image/png": "[encoded data removed]",
      "text/plain": [
       "<Figure size 432x288 with 1 Axes>"
      ]
     },
     "metadata": {},
     "output_type": "display_data"
    },
    {
     "data": {
      "image/png": "[encoded data removed]",
      "text/plain": [
       "<Figure size 432x288 with 1 Axes>"
      ]
     },
     "metadata": {},
     "output_type": "display_data"
    }
   ],
   "source": [
    "#define Seaborn color palette to use\n",
    "colors = sb.color_palette('pastel')[0:5]\n",
    "\n",
    "#create pie chart for gender\n",
    "plt.pie(gender_cnt, labels = ['male', 'female'], colors = colors, autopct='%.0f%%')\n",
    "plt.title('Gender')\n",
    "plt.show()\n",
    "\n",
    "#create pie chart for specialization\n",
    "plt.pie(sp_cnt, labels = ['Commerce', 'Science', 'Arts'], colors = colors, autopct='%.0f%%')\n",
    "plt.title('School Specialization')\n",
    "plt.show()\n",
    "\n",
    "#create pie chart for board of education\n",
    "plt.pie(b_cnt, labels = ['Central', 'Others'], colors = colors, autopct='%.0f%%')\n",
    "plt.title('Board of Education')\n",
    "plt.show()\n",
    "\n",
    "#create pie chart for work Experience\n",
    "plt.pie(wexp_cnt, labels = ['No', 'Yes'], colors = colors, autopct='%.0f%%')\n",
    "plt.title('Any work Experience?')\n",
    "plt.show()\n",
    "\n",
    "#create pie chart for Degree Type\n",
    "plt.pie(degree_cnt, labels = ['Comm&Mgmt', 'Sci&Tech', 'Others'], colors = colors, autopct='%.0f%%')\n",
    "plt.title('Undergrad degree')\n",
    "plt.show()\n"
   ]
  },
  {
   "cell_type": "markdown",
   "metadata": {},
   "source": [
    "## Final DataSet"
   ]
  },
  {
   "cell_type": "code",
   "execution_count": 24,
   "metadata": {},
   "outputs": [],
   "source": [
    "df2.to_csv('..\\data\\placement_final.csv', index = False)"
   ]
  }
 ],
 "metadata": {
  "interpreter": {
   "hash": "aadaa73bfdfeb1154f8a70a53c611065f627e0b4c97e6df868873cb954431b21"
  },
  "kernelspec": {
   "display_name": "Python 3.9.9 64-bit",
   "language": "python",
   "name": "python3"
  },
  "language_info": {
   "codemirror_mode": {
    "name": "ipython",
    "version": 3
   },
   "file_extension": ".py",
   "mimetype": "text/x-python",
   "name": "python",
   "nbconvert_exporter": "python",
   "pygments_lexer": "ipython3",
   "version": "3.9.9"
  },
  "orig_nbformat": 4
 },
 "nbformat": 4,
 "nbformat_minor": 2
}
